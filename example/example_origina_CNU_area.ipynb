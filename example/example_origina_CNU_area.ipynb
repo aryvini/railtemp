{
 "cells": [
  {
   "cell_type": "markdown",
   "metadata": {},
   "source": [
    "# Module usage example  \n",
    "Simulation pipiline using Jupyter notebook  \n",
    "\n",
    "The steps are:\n",
    "1. Libraries Importing \n",
    "1. Data\n",
    "    1. Importing\n",
    "    1. Selecting\n",
    "1. Simulation\n",
    "    1. Initializing components\n",
    "    1. Running simulations\n",
    "    1. Plotting results\n",
    "1. Simulation Metrics"
   ]
  },
  {
   "cell_type": "markdown",
   "metadata": {
    "toc-hr-collapsed": true
   },
   "source": [
    "# Imports"
   ]
  },
  {
   "cell_type": "code",
   "execution_count": 1,
   "metadata": {},
   "outputs": [],
   "source": [
    "from railtemp import * #import all classes and functions from railtemp repository\r\n",
    "import pandas as pd\r\n",
    "import numpy as np\r\n",
    "\r\n",
    "import plotly.graph_objects as go\r\n",
    "import plotly.express as px \r\n",
    "from plotly.subplots import make_subplots\r\n",
    "import matplotlib.pyplot as plt\r\n",
    "import seaborn as sns\r\n",
    "\r\n",
    "%config Completer.use_jedi = False\r\n",
    "%matplotlib inline"
   ]
  },
  {
   "cell_type": "markdown",
   "metadata": {},
   "source": [
    "# Data"
   ]
  },
  {
   "cell_type": "markdown",
   "metadata": {},
   "source": [
    "## Data Import  \n",
    "The data source can be any format, since it can be transformed to `pandas` data frame.  \n",
    "This example will read a example file `data.csv`.  \n",
    "The data contains the following headers:  \n",
    "*  RT1: measured rail temperature for further comparisions\n",
    "* TA: air temperature in Celsius\n",
    "* SR: solar radiation in W/m²\n",
    "* Wv_avg: average wind speed in m/s"
   ]
  },
  {
   "cell_type": "code",
   "execution_count": 2,
   "metadata": {},
   "outputs": [],
   "source": [
    "df = pd.read_csv('data.csv') #import csv file"
   ]
  },
  {
   "cell_type": "code",
   "execution_count": 3,
   "metadata": {},
   "outputs": [
    {
     "data": {
      "text/html": [
       "<div>\n",
       "<style scoped>\n",
       "    .dataframe tbody tr th:only-of-type {\n",
       "        vertical-align: middle;\n",
       "    }\n",
       "\n",
       "    .dataframe tbody tr th {\n",
       "        vertical-align: top;\n",
       "    }\n",
       "\n",
       "    .dataframe thead th {\n",
       "        text-align: right;\n",
       "    }\n",
       "</style>\n",
       "<table border=\"1\" class=\"dataframe\">\n",
       "  <thead>\n",
       "    <tr style=\"text-align: right;\">\n",
       "      <th></th>\n",
       "      <th>Date</th>\n",
       "      <th>RT1</th>\n",
       "      <th>TA</th>\n",
       "      <th>SR</th>\n",
       "      <th>Wv_avg</th>\n",
       "    </tr>\n",
       "  </thead>\n",
       "  <tbody>\n",
       "    <tr>\n",
       "      <th>0</th>\n",
       "      <td>2020/08/09 06:00:00</td>\n",
       "      <td>24.189</td>\n",
       "      <td>20.55713</td>\n",
       "      <td>0.05597</td>\n",
       "      <td>0.32539</td>\n",
       "    </tr>\n",
       "    <tr>\n",
       "      <th>1</th>\n",
       "      <td>2020/08/09 06:05:00</td>\n",
       "      <td>24.060</td>\n",
       "      <td>20.45899</td>\n",
       "      <td>0.22490</td>\n",
       "      <td>0.00000</td>\n",
       "    </tr>\n",
       "    <tr>\n",
       "      <th>2</th>\n",
       "      <td>2020/08/09 06:10:00</td>\n",
       "      <td>23.990</td>\n",
       "      <td>20.39551</td>\n",
       "      <td>0.64481</td>\n",
       "      <td>0.00000</td>\n",
       "    </tr>\n",
       "    <tr>\n",
       "      <th>3</th>\n",
       "      <td>2020/08/09 06:15:00</td>\n",
       "      <td>23.924</td>\n",
       "      <td>20.47071</td>\n",
       "      <td>1.48352</td>\n",
       "      <td>0.00000</td>\n",
       "    </tr>\n",
       "    <tr>\n",
       "      <th>4</th>\n",
       "      <td>2020/08/09 06:20:00</td>\n",
       "      <td>23.860</td>\n",
       "      <td>20.55078</td>\n",
       "      <td>2.41260</td>\n",
       "      <td>0.00000</td>\n",
       "    </tr>\n",
       "  </tbody>\n",
       "</table>\n",
       "</div>"
      ],
      "text/plain": [
       "                  Date     RT1        TA       SR   Wv_avg\n",
       "0  2020/08/09 06:00:00  24.189  20.55713  0.05597  0.32539\n",
       "1  2020/08/09 06:05:00  24.060  20.45899  0.22490  0.00000\n",
       "2  2020/08/09 06:10:00  23.990  20.39551  0.64481  0.00000\n",
       "3  2020/08/09 06:15:00  23.924  20.47071  1.48352  0.00000\n",
       "4  2020/08/09 06:20:00  23.860  20.55078  2.41260  0.00000"
      ]
     },
     "execution_count": 3,
     "metadata": {},
     "output_type": "execute_result"
    }
   ],
   "source": [
    "df.head()"
   ]
  },
  {
   "cell_type": "markdown",
   "metadata": {},
   "source": [
    "In order to work properly, the dataframe index must be `DatetimeIndex`"
   ]
  },
  {
   "cell_type": "code",
   "execution_count": 4,
   "metadata": {},
   "outputs": [],
   "source": [
    "df['Date'] = pd.to_datetime(df['Date'],format='%Y-%m-%d %H:%M:%S')\r\n",
    "df.set_index('Date',inplace=True)"
   ]
  },
  {
   "cell_type": "code",
   "execution_count": 5,
   "metadata": {},
   "outputs": [
    {
     "name": "stdout",
     "output_type": "stream",
     "text": [
      "<class 'pandas.core.frame.DataFrame'>\n",
      "DatetimeIndex: 205 entries, 2020-08-09 06:00:00 to 2020-08-09 23:00:00\n",
      "Data columns (total 4 columns):\n",
      " #   Column  Non-Null Count  Dtype  \n",
      "---  ------  --------------  -----  \n",
      " 0   RT1     205 non-null    float64\n",
      " 1   TA      205 non-null    float64\n",
      " 2   SR      205 non-null    float64\n",
      " 3   Wv_avg  205 non-null    float64\n",
      "dtypes: float64(4)\n",
      "memory usage: 8.0 KB\n"
     ]
    }
   ],
   "source": [
    "df.info()"
   ]
  },
  {
   "cell_type": "markdown",
   "metadata": {},
   "source": []
  },
  {
   "cell_type": "markdown",
   "metadata": {},
   "source": [
    "# Data Selecting\n",
    "\n",
    "Ploting the dataframe help analyzing if there is any missing or anormal value"
   ]
  },
  {
   "cell_type": "code",
   "execution_count": 6,
   "metadata": {},
   "outputs": [
    {
     "data": {
      "text/plain": [
       "<matplotlib.legend.Legend at 0x18b769b4288>"
      ]
     },
     "execution_count": 6,
     "metadata": {},
     "output_type": "execute_result"
    },
    {
     "data": {
      "image/png": "[encoded data removed]",
      "text/plain": [
       "<Figure size 864x432 with 3 Axes>"
      ]
     },
     "metadata": {},
     "output_type": "display_data"
    }
   ],
   "source": [
    "sns.set_theme()\r\n",
    "fig, axes = plt.subplots(nrows=3,ncols=1,sharex=True,figsize=(12,6))\r\n",
    "axes[0].plot(df.index,df['RT1'],label='Rail Temperature',color='#AA3836')\r\n",
    "axes[0].plot(df.index,df['TA'],label='Air Temperature',color='#11688D')\r\n",
    "axes[0].set_ylabel('$^\\circ C$')\r\n",
    "axes[0].legend()\r\n",
    "\r\n",
    "axes[1].plot(df.index,df['SR'],label='Solar Radiation',color='#E48D00')\r\n",
    "axes[1].set_ylabel('$Wm^{-2}$')\r\n",
    "axes[1].legend()\r\n",
    "\r\n",
    "axes[2].plot(df.index,df['Wv_avg'],label='Wind speed',color='#9A3ACE')\r\n",
    "axes[2].set_ylabel('$ms^{-1}$')\r\n",
    "axes[2].legend()"
   ]
  },
  {
   "cell_type": "markdown",
   "metadata": {},
   "source": [
    "As seen, the data is clear with no fault or missing values.  \n",
    "The range is from 06:00 to 23:00 of 2020-08-09. \n",
    "This will be the total range of the simulation  \n",
    "It's very important that **missing values** are not passed to the simulation, otherwise it will not run properly."
   ]
  },
  {
   "cell_type": "markdown",
   "metadata": {},
   "source": [
    "# Simulation"
   ]
  },
  {
   "cell_type": "markdown",
   "metadata": {},
   "source": [
    "## Initializing components"
   ]
  },
  {
   "cell_type": "markdown",
   "metadata": {},
   "source": [
    "First is necessary to define `RailMaterial` object in which contains material properties to later be assigned to a `Rail` object.  \n",
    "The parameters are:\n",
    "* Density in kg/m³\n",
    "* solar absortion \n",
    "* emisivity "
   ]
  },
  {
   "cell_type": "code",
   "execution_count": 7,
   "metadata": {},
   "outputs": [],
   "source": [
    "steel = RailMaterial(density=7850,solar_absort=0.8,emissivity=0.7)"
   ]
  },
  {
   "cell_type": "markdown",
   "metadata": {},
   "source": [
    "Now we need to create a `Rail` objected which will pack many information of the rail to be simulated, such as:  \n",
    "* Section name\n",
    "* Azimuth\n",
    "* Position (lat,long, elevation)\n",
    "* Cross section area\n",
    "* convection, radiation areas\n",
    "* ambient emissivity\n",
    "* material property  \n",
    "\n",
    "The list of availiable sections can be found in xxxxxxx.  \n",
    "\n",
    "The position has to be in decimal degrees, in this example is in the city of Mirandela-Portugal.  \n",
    "\n",
    "The input areas must be in m².  \n",
    "\n",
    "The material property is the `RailMaterial` object in which we created before"
   ]
  },
  {
   "cell_type": "code",
   "execution_count": 8,
   "metadata": {},
   "outputs": [],
   "source": [
    "UIC54 = Rail(name='UIC54',\r\n",
    "             azimuth=93,lat=41.482628,long=-7.183741,elev=220,\r\n",
    "             cross_area=7.16e-3,convection_area=430.46e-3,radiation_area=430.46e-3,\r\n",
    "             ambient_emissivity=0.5,material=steel)"
   ]
  },
  {
   "cell_type": "markdown",
   "metadata": {},
   "source": [
    "Now is necessary to create a `WeatherData` object which packs:\n",
    "* Solar radiation\n",
    "* Wind velocity\n",
    "* Ambient temperature\n",
    "* Timezone information\n",
    "\n",
    "Timzone information must be a `pytz.Timzone` object.  \n",
    "\n",
    "We will use the dataframe `df` which we imported before. Each column will be a parameter of the `WeatherData` class initialization. It is imporant to mention that the dataframe must have the same `DateTimeIndex` to assure a issuless simulation run.\n",
    "\n"
   ]
  },
  {
   "cell_type": "code",
   "execution_count": 9,
   "metadata": {},
   "outputs": [],
   "source": [
    "day1 = WeatherData(solar_radiation=df['SR'],\r\n",
    "                   wind_velocity=df['Wv_avg'],\r\n",
    "                   ambient_temperature=df['TA'],\r\n",
    "                   timezone=pytz.timezone('Europe/Lisbon'))"
   ]
  },
  {
   "cell_type": "markdown",
   "metadata": {},
   "source": [
    "The last object we need to create is a `CNU` object, which contains the methods to perform and output the solution.  \n",
    "To create is necessary to pass the forementioned objects: `UIC54` which have the material and geometry info and `day1` that have all the datetime and ambient information.  "
   ]
  },
  {
   "cell_type": "code",
   "execution_count": 10,
   "metadata": {},
   "outputs": [],
   "source": [
    "simu1 = CNU(rail=UIC54,weather=day1)"
   ]
  },
  {
   "cell_type": "markdown",
   "metadata": {},
   "source": [
    "Once the `CNU` object is created, simply call the method `CNU.run` to run the simulation.\n",
    "\n",
    "The only parameter needed is the initial rail temperature in Celsius.  \n",
    "After, the programm will do all the calculations and the result will be availiable on `CNU.result`"
   ]
  },
  {
   "cell_type": "markdown",
   "metadata": {},
   "source": [
    "## Running simulation"
   ]
  },
  {
   "cell_type": "code",
   "execution_count": 11,
   "metadata": {},
   "outputs": [
    {
     "name": "stdout",
     "output_type": "stream",
     "text": [
      "Converting the temperatures to Kelvin\n",
      "Done\n",
      "Calculating Hconv\n",
      "Done\n",
      "Fetching solar data\n"
     ]
    },
    {
     "name": "stderr",
     "output_type": "stream",
     "text": [
      "C:\\Anaconda3\\lib\\site-packages\\pysolar\\solartime.py:112: UserWarning: I don't know about leap seconds after 2018\n",
      "  (leap_seconds_base_year + len(leap_seconds_adjustments) - 1)\n"
     ]
    },
    {
     "name": "stdout",
     "output_type": "stream",
     "text": [
      "Done\n",
      "Calculating As\n",
      "Done\n",
      "Creating Delta time Columns\n",
      "Done\n",
      "Setting initial conditions\n",
      "Done\n",
      "Solving model\n",
      "Done\n",
      "Converting temperatures to Celsius\n",
      "Done\n",
      "Finished in: 2021-08-12 10:17:17.182561\n",
      "Execution time: 2.0123519897460938\n",
      "------------------------------------\n"
     ]
    }
   ],
   "source": [
    "simu1.run_original_CNU_area(Trail_initial=23)"
   ]
  },
  {
   "cell_type": "code",
   "execution_count": 24,
   "metadata": {},
   "outputs": [
    {
     "data": {
      "text/html": [
       "<div>\n",
       "<style scoped>\n",
       "    .dataframe tbody tr th:only-of-type {\n",
       "        vertical-align: middle;\n",
       "    }\n",
       "\n",
       "    .dataframe tbody tr th {\n",
       "        vertical-align: top;\n",
       "    }\n",
       "\n",
       "    .dataframe thead th {\n",
       "        text-align: right;\n",
       "    }\n",
       "</style>\n",
       "<table border=\"1\" class=\"dataframe\">\n",
       "  <thead>\n",
       "    <tr style=\"text-align: right;\">\n",
       "      <th></th>\n",
       "      <th>SR</th>\n",
       "      <th>Tamb</th>\n",
       "      <th>Wv</th>\n",
       "      <th>Hconv</th>\n",
       "      <th>Sun_azimuth</th>\n",
       "      <th>Sun_altitude</th>\n",
       "      <th>As</th>\n",
       "      <th>Delta_time</th>\n",
       "      <th>Simu_time</th>\n",
       "      <th>Tr_simu</th>\n",
       "    </tr>\n",
       "    <tr>\n",
       "      <th>Date</th>\n",
       "      <th></th>\n",
       "      <th></th>\n",
       "      <th></th>\n",
       "      <th></th>\n",
       "      <th></th>\n",
       "      <th></th>\n",
       "      <th></th>\n",
       "      <th></th>\n",
       "      <th></th>\n",
       "      <th></th>\n",
       "    </tr>\n",
       "  </thead>\n",
       "  <tbody>\n",
       "    <tr>\n",
       "      <th>2020-08-09 06:00:00</th>\n",
       "      <td>0.05597</td>\n",
       "      <td>20.55713</td>\n",
       "      <td>0.32539</td>\n",
       "      <td>6.90156</td>\n",
       "      <td>62.590718</td>\n",
       "      <td>-6.237632</td>\n",
       "      <td>0.0</td>\n",
       "      <td>0</td>\n",
       "      <td>0</td>\n",
       "      <td>23.000000</td>\n",
       "    </tr>\n",
       "    <tr>\n",
       "      <th>2020-08-09 06:05:00</th>\n",
       "      <td>0.22490</td>\n",
       "      <td>20.45899</td>\n",
       "      <td>0.00000</td>\n",
       "      <td>5.60000</td>\n",
       "      <td>63.462800</td>\n",
       "      <td>-5.403703</td>\n",
       "      <td>0.0</td>\n",
       "      <td>300</td>\n",
       "      <td>300</td>\n",
       "      <td>22.902975</td>\n",
       "    </tr>\n",
       "    <tr>\n",
       "      <th>2020-08-09 06:10:00</th>\n",
       "      <td>0.64481</td>\n",
       "      <td>20.39551</td>\n",
       "      <td>0.00000</td>\n",
       "      <td>5.60000</td>\n",
       "      <td>64.327517</td>\n",
       "      <td>-4.563427</td>\n",
       "      <td>0.0</td>\n",
       "      <td>300</td>\n",
       "      <td>600</td>\n",
       "      <td>22.807237</td>\n",
       "    </tr>\n",
       "    <tr>\n",
       "      <th>2020-08-09 06:15:00</th>\n",
       "      <td>1.48352</td>\n",
       "      <td>20.47071</td>\n",
       "      <td>0.00000</td>\n",
       "      <td>5.60000</td>\n",
       "      <td>65.185217</td>\n",
       "      <td>-3.717047</td>\n",
       "      <td>0.0</td>\n",
       "      <td>300</td>\n",
       "      <td>900</td>\n",
       "      <td>22.718015</td>\n",
       "    </tr>\n",
       "    <tr>\n",
       "      <th>2020-08-09 06:20:00</th>\n",
       "      <td>2.41260</td>\n",
       "      <td>20.55078</td>\n",
       "      <td>0.00000</td>\n",
       "      <td>5.60000</td>\n",
       "      <td>66.036248</td>\n",
       "      <td>-2.864800</td>\n",
       "      <td>0.0</td>\n",
       "      <td>300</td>\n",
       "      <td>1200</td>\n",
       "      <td>22.635247</td>\n",
       "    </tr>\n",
       "    <tr>\n",
       "      <th>...</th>\n",
       "      <td>...</td>\n",
       "      <td>...</td>\n",
       "      <td>...</td>\n",
       "      <td>...</td>\n",
       "      <td>...</td>\n",
       "      <td>...</td>\n",
       "      <td>...</td>\n",
       "      <td>...</td>\n",
       "      <td>...</td>\n",
       "      <td>...</td>\n",
       "    </tr>\n",
       "    <tr>\n",
       "      <th>2020-08-09 22:40:00</th>\n",
       "      <td>0.00000</td>\n",
       "      <td>26.65577</td>\n",
       "      <td>0.03462</td>\n",
       "      <td>5.73848</td>\n",
       "      <td>314.989909</td>\n",
       "      <td>-20.263250</td>\n",
       "      <td>0.0</td>\n",
       "      <td>300</td>\n",
       "      <td>60000</td>\n",
       "      <td>29.925761</td>\n",
       "    </tr>\n",
       "    <tr>\n",
       "      <th>2020-08-09 22:45:00</th>\n",
       "      <td>0.00000</td>\n",
       "      <td>26.72022</td>\n",
       "      <td>0.07996</td>\n",
       "      <td>5.91984</td>\n",
       "      <td>316.068485</td>\n",
       "      <td>-20.920188</td>\n",
       "      <td>0.0</td>\n",
       "      <td>300</td>\n",
       "      <td>60300</td>\n",
       "      <td>29.797620</td>\n",
       "    </tr>\n",
       "    <tr>\n",
       "      <th>2020-08-09 22:50:00</th>\n",
       "      <td>0.00000</td>\n",
       "      <td>26.56690</td>\n",
       "      <td>0.00543</td>\n",
       "      <td>5.62172</td>\n",
       "      <td>317.160549</td>\n",
       "      <td>-21.564357</td>\n",
       "      <td>0.0</td>\n",
       "      <td>300</td>\n",
       "      <td>60600</td>\n",
       "      <td>29.673069</td>\n",
       "    </tr>\n",
       "    <tr>\n",
       "      <th>2020-08-09 22:55:00</th>\n",
       "      <td>0.00000</td>\n",
       "      <td>26.59620</td>\n",
       "      <td>0.26929</td>\n",
       "      <td>6.67716</td>\n",
       "      <td>318.266284</td>\n",
       "      <td>-22.195361</td>\n",
       "      <td>0.0</td>\n",
       "      <td>300</td>\n",
       "      <td>60900</td>\n",
       "      <td>29.539074</td>\n",
       "    </tr>\n",
       "    <tr>\n",
       "      <th>2020-08-09 23:00:00</th>\n",
       "      <td>0.00000</td>\n",
       "      <td>26.56446</td>\n",
       "      <td>0.30138</td>\n",
       "      <td>6.80552</td>\n",
       "      <td>319.385849</td>\n",
       "      <td>-22.812800</td>\n",
       "      <td>0.0</td>\n",
       "      <td>300</td>\n",
       "      <td>61200</td>\n",
       "      <td>29.407734</td>\n",
       "    </tr>\n",
       "  </tbody>\n",
       "</table>\n",
       "<p>205 rows × 10 columns</p>\n",
       "</div>"
      ],
      "text/plain": [
       "                          SR      Tamb       Wv    Hconv  Sun_azimuth  \\\n",
       "Date                                                                    \n",
       "2020-08-09 06:00:00  0.05597  20.55713  0.32539  6.90156    62.590718   \n",
       "2020-08-09 06:05:00  0.22490  20.45899  0.00000  5.60000    63.462800   \n",
       "2020-08-09 06:10:00  0.64481  20.39551  0.00000  5.60000    64.327517   \n",
       "2020-08-09 06:15:00  1.48352  20.47071  0.00000  5.60000    65.185217   \n",
       "2020-08-09 06:20:00  2.41260  20.55078  0.00000  5.60000    66.036248   \n",
       "...                      ...       ...      ...      ...          ...   \n",
       "2020-08-09 22:40:00  0.00000  26.65577  0.03462  5.73848   314.989909   \n",
       "2020-08-09 22:45:00  0.00000  26.72022  0.07996  5.91984   316.068485   \n",
       "2020-08-09 22:50:00  0.00000  26.56690  0.00543  5.62172   317.160549   \n",
       "2020-08-09 22:55:00  0.00000  26.59620  0.26929  6.67716   318.266284   \n",
       "2020-08-09 23:00:00  0.00000  26.56446  0.30138  6.80552   319.385849   \n",
       "\n",
       "                     Sun_altitude   As  Delta_time  Simu_time    Tr_simu  \n",
       "Date                                                                      \n",
       "2020-08-09 06:00:00     -6.237632  0.0           0          0  23.000000  \n",
       "2020-08-09 06:05:00     -5.403703  0.0         300        300  22.902975  \n",
       "2020-08-09 06:10:00     -4.563427  0.0         300        600  22.807237  \n",
       "2020-08-09 06:15:00     -3.717047  0.0         300        900  22.718015  \n",
       "2020-08-09 06:20:00     -2.864800  0.0         300       1200  22.635247  \n",
       "...                           ...  ...         ...        ...        ...  \n",
       "2020-08-09 22:40:00    -20.263250  0.0         300      60000  29.925761  \n",
       "2020-08-09 22:45:00    -20.920188  0.0         300      60300  29.797620  \n",
       "2020-08-09 22:50:00    -21.564357  0.0         300      60600  29.673069  \n",
       "2020-08-09 22:55:00    -22.195361  0.0         300      60900  29.539074  \n",
       "2020-08-09 23:00:00    -22.812800  0.0         300      61200  29.407734  \n",
       "\n",
       "[205 rows x 10 columns]"
      ]
     },
     "execution_count": 24,
     "metadata": {},
     "output_type": "execute_result"
    }
   ],
   "source": [
    "simu1.result"
   ]
  },
  {
   "cell_type": "markdown",
   "metadata": {},
   "source": [
    "## Plotting results"
   ]
  },
  {
   "cell_type": "markdown",
   "metadata": {},
   "source": [
    "Joining the df and result dataframes to ease the plot"
   ]
  },
  {
   "cell_type": "code",
   "execution_count": 17,
   "metadata": {},
   "outputs": [],
   "source": [
    "result = simu1.result\r\n",
    "result = result.join(df['RT1'])"
   ]
  },
  {
   "cell_type": "code",
   "execution_count": 18,
   "metadata": {},
   "outputs": [
    {
     "data": {
      "text/html": [
       "<div>\n",
       "<style scoped>\n",
       "    .dataframe tbody tr th:only-of-type {\n",
       "        vertical-align: middle;\n",
       "    }\n",
       "\n",
       "    .dataframe tbody tr th {\n",
       "        vertical-align: top;\n",
       "    }\n",
       "\n",
       "    .dataframe thead th {\n",
       "        text-align: right;\n",
       "    }\n",
       "</style>\n",
       "<table border=\"1\" class=\"dataframe\">\n",
       "  <thead>\n",
       "    <tr style=\"text-align: right;\">\n",
       "      <th></th>\n",
       "      <th>SR</th>\n",
       "      <th>Tamb</th>\n",
       "      <th>Wv</th>\n",
       "      <th>Hconv</th>\n",
       "      <th>Sun_azimuth</th>\n",
       "      <th>Sun_altitude</th>\n",
       "      <th>As</th>\n",
       "      <th>Delta_time</th>\n",
       "      <th>Simu_time</th>\n",
       "      <th>Tr_simu</th>\n",
       "      <th>RT1</th>\n",
       "    </tr>\n",
       "    <tr>\n",
       "      <th>Date</th>\n",
       "      <th></th>\n",
       "      <th></th>\n",
       "      <th></th>\n",
       "      <th></th>\n",
       "      <th></th>\n",
       "      <th></th>\n",
       "      <th></th>\n",
       "      <th></th>\n",
       "      <th></th>\n",
       "      <th></th>\n",
       "      <th></th>\n",
       "    </tr>\n",
       "  </thead>\n",
       "  <tbody>\n",
       "    <tr>\n",
       "      <th>2020-08-09 06:00:00</th>\n",
       "      <td>0.05597</td>\n",
       "      <td>20.55713</td>\n",
       "      <td>0.32539</td>\n",
       "      <td>6.90156</td>\n",
       "      <td>62.590718</td>\n",
       "      <td>-6.237632</td>\n",
       "      <td>0.0</td>\n",
       "      <td>0</td>\n",
       "      <td>0</td>\n",
       "      <td>23.000000</td>\n",
       "      <td>24.189</td>\n",
       "    </tr>\n",
       "    <tr>\n",
       "      <th>2020-08-09 06:05:00</th>\n",
       "      <td>0.22490</td>\n",
       "      <td>20.45899</td>\n",
       "      <td>0.00000</td>\n",
       "      <td>5.60000</td>\n",
       "      <td>63.462800</td>\n",
       "      <td>-5.403703</td>\n",
       "      <td>0.0</td>\n",
       "      <td>300</td>\n",
       "      <td>300</td>\n",
       "      <td>22.902975</td>\n",
       "      <td>24.060</td>\n",
       "    </tr>\n",
       "    <tr>\n",
       "      <th>2020-08-09 06:10:00</th>\n",
       "      <td>0.64481</td>\n",
       "      <td>20.39551</td>\n",
       "      <td>0.00000</td>\n",
       "      <td>5.60000</td>\n",
       "      <td>64.327517</td>\n",
       "      <td>-4.563427</td>\n",
       "      <td>0.0</td>\n",
       "      <td>300</td>\n",
       "      <td>600</td>\n",
       "      <td>22.807237</td>\n",
       "      <td>23.990</td>\n",
       "    </tr>\n",
       "    <tr>\n",
       "      <th>2020-08-09 06:15:00</th>\n",
       "      <td>1.48352</td>\n",
       "      <td>20.47071</td>\n",
       "      <td>0.00000</td>\n",
       "      <td>5.60000</td>\n",
       "      <td>65.185217</td>\n",
       "      <td>-3.717047</td>\n",
       "      <td>0.0</td>\n",
       "      <td>300</td>\n",
       "      <td>900</td>\n",
       "      <td>22.718015</td>\n",
       "      <td>23.924</td>\n",
       "    </tr>\n",
       "    <tr>\n",
       "      <th>2020-08-09 06:20:00</th>\n",
       "      <td>2.41260</td>\n",
       "      <td>20.55078</td>\n",
       "      <td>0.00000</td>\n",
       "      <td>5.60000</td>\n",
       "      <td>66.036248</td>\n",
       "      <td>-2.864800</td>\n",
       "      <td>0.0</td>\n",
       "      <td>300</td>\n",
       "      <td>1200</td>\n",
       "      <td>22.635247</td>\n",
       "      <td>23.860</td>\n",
       "    </tr>\n",
       "  </tbody>\n",
       "</table>\n",
       "</div>"
      ],
      "text/plain": [
       "                          SR      Tamb       Wv    Hconv  Sun_azimuth  \\\n",
       "Date                                                                    \n",
       "2020-08-09 06:00:00  0.05597  20.55713  0.32539  6.90156    62.590718   \n",
       "2020-08-09 06:05:00  0.22490  20.45899  0.00000  5.60000    63.462800   \n",
       "2020-08-09 06:10:00  0.64481  20.39551  0.00000  5.60000    64.327517   \n",
       "2020-08-09 06:15:00  1.48352  20.47071  0.00000  5.60000    65.185217   \n",
       "2020-08-09 06:20:00  2.41260  20.55078  0.00000  5.60000    66.036248   \n",
       "\n",
       "                     Sun_altitude   As  Delta_time  Simu_time    Tr_simu  \\\n",
       "Date                                                                       \n",
       "2020-08-09 06:00:00     -6.237632  0.0           0          0  23.000000   \n",
       "2020-08-09 06:05:00     -5.403703  0.0         300        300  22.902975   \n",
       "2020-08-09 06:10:00     -4.563427  0.0         300        600  22.807237   \n",
       "2020-08-09 06:15:00     -3.717047  0.0         300        900  22.718015   \n",
       "2020-08-09 06:20:00     -2.864800  0.0         300       1200  22.635247   \n",
       "\n",
       "                        RT1  \n",
       "Date                         \n",
       "2020-08-09 06:00:00  24.189  \n",
       "2020-08-09 06:05:00  24.060  \n",
       "2020-08-09 06:10:00  23.990  \n",
       "2020-08-09 06:15:00  23.924  \n",
       "2020-08-09 06:20:00  23.860  "
      ]
     },
     "execution_count": 18,
     "metadata": {},
     "output_type": "execute_result"
    }
   ],
   "source": [
    "result.head()"
   ]
  },
  {
   "cell_type": "code",
   "execution_count": 19,
   "metadata": {},
   "outputs": [
    {
     "data": {
      "text/plain": [
       "<matplotlib.legend.Legend at 0x18b76a37988>"
      ]
     },
     "execution_count": 19,
     "metadata": {},
     "output_type": "execute_result"
    },
    {
     "data": {
      "image/png": "[encoded data removed]",
      "text/plain": [
       "<Figure size 864x432 with 1 Axes>"
      ]
     },
     "metadata": {},
     "output_type": "display_data"
    }
   ],
   "source": [
    "data = result\r\n",
    "sns.set_theme()\r\n",
    "fig, axes = plt.subplots(nrows=1,ncols=1,sharex=True,figsize=(12,6))\r\n",
    "\r\n",
    "axes.plot(data.index,data['RT1'],label='Rail - measured',color='#AA3836')\r\n",
    "axes.plot(data.index,data['Tr_simu'],label='Rail - simulated',color='#AA3836',ls='--')\r\n",
    "axes.plot(df.index,df['TA'],label='Air temperature',color='#11688D')\r\n",
    "axes.set_ylabel('$^\\circ C$')\r\n",
    "axes.legend()"
   ]
  },
  {
   "cell_type": "markdown",
   "metadata": {},
   "source": [
    "# Simulation metrics"
   ]
  },
  {
   "cell_type": "code",
   "execution_count": 20,
   "metadata": {},
   "outputs": [],
   "source": [
    "from sklearn.metrics import max_error,r2_score,mean_squared_error"
   ]
  },
  {
   "cell_type": "code",
   "execution_count": 21,
   "metadata": {},
   "outputs": [],
   "source": [
    "data = result"
   ]
  },
  {
   "cell_type": "code",
   "execution_count": 22,
   "metadata": {},
   "outputs": [
    {
     "name": "stdout",
     "output_type": "stream",
     "text": [
      "n. of samples: 205\n",
      "r2: 0.8944029266934226\n",
      "max error: 6.34727153525607\n",
      "RMSE: 10.22561718573588\n"
     ]
    }
   ],
   "source": [
    "print('n. of samples: ' + str(len(data)))\r\n",
    "print('r2: ' + str(r2_score(data['RT1'],data['Tr_simu'])))\r\n",
    "print('max error: '+str(max_error(data['RT1'],data['Tr_simu'])))\r\n",
    "print('RMSE: '+str(mean_squared_error(data['RT1'],data['Tr_simu'])))"
   ]
  },
  {
   "cell_type": "code",
   "execution_count": 23,
   "metadata": {},
   "outputs": [
    {
     "name": "stderr",
     "output_type": "stream",
     "text": [
      "C:\\Anaconda3\\lib\\site-packages\\seaborn\\_decorators.py:43: FutureWarning: Pass the following variables as keyword args: x, y. From version 0.12, the only valid positional argument will be `data`, and passing other arguments without an explicit keyword will result in an error or misinterpretation.\n",
      "  FutureWarning\n"
     ]
    },
    {
     "data": {
      "text/plain": [
       "<AxesSubplot:xlabel='RT1', ylabel='Tr_simu'>"
      ]
     },
     "execution_count": 23,
     "metadata": {},
     "output_type": "execute_result"
    },
    {
     "data": {
      "image/png": "[encoded data removed]",
      "text/plain": [
       "<Figure size 432x288 with 1 Axes>"
      ]
     },
     "metadata": {},
     "output_type": "display_data"
    }
   ],
   "source": [
    "sns.scatterplot(data['RT1'],data['Tr_simu'])"
   ]
  },
  {
   "cell_type": "code",
   "execution_count": null,
   "metadata": {},
   "outputs": [],
   "source": []
  }
 ],
 "metadata": {
  "interpreter": {
   "hash": "97ae724bfa85b9b34df7982b8bb8c7216f435b92902d749e4263f71162bea840"
  },
  "kernelspec": {
   "display_name": "Python 3",
   "language": "python",
   "name": "python3"
  },
  "language_info": {
   "codemirror_mode": {
    "name": "ipython",
    "version": 3
   },
   "file_extension": ".py",
   "mimetype": "text/x-python",
   "name": "python",
   "nbconvert_exporter": "python",
   "pygments_lexer": "ipython3",
   "version": "3.7.9"
  },
  "toc-autonumbering": true,
  "toc-showcode": false
 },
 "nbformat": 4,
 "nbformat_minor": 4
}
